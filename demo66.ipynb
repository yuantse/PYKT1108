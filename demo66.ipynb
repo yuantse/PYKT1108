{
 "cells": [
  {
   "cell_type": "code",
   "execution_count": 1,
   "id": "b1865664",
   "metadata": {},
   "outputs": [
    {
     "name": "stdout",
     "output_type": "stream",
     "text": [
      "[1, 14, 22, 16, 43, 530, 973, 1622, 1385, 65, 458, 4468, 66, 3941, 4, 173, 36, 256, 5, 25, 100, 43, 838, 112, 50, 670, 2, 9, 35, 480, 284, 5, 150, 4, 172, 112, 167, 2, 336, 385, 39, 4, 172, 4536, 1111, 17, 546, 38, 13, 447, 4, 192, 50, 16, 6, 147, 2025, 19, 14, 22, 4, 1920, 4613, 469, 4, 22, 71, 87, 12, 16, 43, 530, 38, 76, 15, 13, 1247, 4, 22, 17, 515, 17, 12, 16, 626, 18, 2, 5, 62, 386, 12, 8, 316, 8, 106, 5, 4, 2223, 5244, 16, 480, 66, 3785, 33, 4, 130, 12, 16, 38, 619, 5, 25, 124, 51, 36, 135, 48, 25, 1415, 33, 6, 22, 12, 215, 28, 77, 52, 5, 14, 407, 16, 82, 10311, 8, 4, 107, 117, 5952, 15, 256, 4, 2, 7, 3766, 5, 723, 36, 71, 43, 530, 476, 26, 400, 317, 46, 7, 4, 12118, 1029, 13, 104, 88, 4, 381, 15, 297, 98, 32, 2071, 56, 26, 141, 6, 194, 7486, 18, 4, 226, 22, 21, 134, 476, 26, 480, 5, 144, 30, 5535, 18, 51, 36, 28, 224, 92, 25, 104, 4, 226, 65, 16, 38, 1334, 88, 12, 16, 283, 5, 16, 4472, 113, 103, 32, 15, 16, 5345, 19, 178, 32]\n",
      "14999\n",
      "<class 'dict'>\n",
      "[('fawn', 34701), ('tsukino', 52006), ('nunnery', 52007), ('sonja', 16816), ('vani', 63951), ('woods', 1408), ('spiders', 16115), ('hanging', 2345), ('woody', 2289), ('trawling', 52008)]\n",
      "? this film was just brilliant casting location scenery story direction everyone's really suited the part they played and you could just imagine being there robert ? is an amazing actor and now the same being director ? father came from the same scottish island as myself so i loved the fact there was a real connection with this film the witty remarks throughout the film were great it was just brilliant so much that i bought the film as soon as it was released for ? and would recommend it to everyone to watch and the fly fishing was amazing really cried at the end it was so sad and you know what they say if you cry at a film it must have been good and this definitely was also congratulations to the two little boy's that played the ? of norman and paul they were just brilliant children are often left out of the praising list i think because the stars that play them all grown up are such a big profile for the whole film but these children are amazing and should be praised for what they have done don't you think the whole story was so lovely because it was true and was someone's life after all that was shared with us all\n",
      "? big hair big boobs bad music and a giant safety pin these are the words to best describe this terrible movie i love cheesy horror movies and i've seen hundreds but this had got to be on of the worst ever made the plot is paper thin and ridiculous the acting is an abomination the script is completely laughable the best is the end showdown with the cop and how he worked out who the killer is it's just so damn terribly written the clothes are sickening and funny in equal measures the hair is big lots of boobs bounce men wear those cut ? shirts that show off their ? sickening that men actually wore them and the music is just ? trash that plays over and over again in almost every scene there is trashy music boobs and ? taking away bodies and the gym still doesn't close for ? all joking aside this is a truly bad film whose only charm is to look back on the disaster that was the 80's and have a good old laugh at how bad everything was back then\n",
      "? this has to be one of the worst films of the 1990s when my friends i were watching this film being the target audience it was aimed at we just sat watched the first half an hour with our jaws touching the floor at how bad it really was the rest of the time everyone else in the theatre just started talking to each other leaving or generally crying into their popcorn that they actually paid money they had ? working to watch this feeble excuse for a film it must have looked like a great idea on paper but on film it looks like no one in the film has a clue what is going on crap acting crap costumes i can't get across how ? this is to watch save yourself an hour a bit of your life\n",
      "? the ? ? at storytelling the traditional sort many years after the event i can still see in my ? eye an elderly lady my friend's mother retelling the battle of ? she makes the characters come alive her passion is that of an eye witness one to the events on the ? heath a mile or so from where she lives br br of course it happened many years before she was born but you wouldn't guess from the way she tells it the same story is told in bars the length and ? of scotland as i discussed it with a friend one night in ? a local cut in to give his version the discussion continued to closing time br br stories passed down like this become part of our being who doesn't remember the stories our parents told us when we were children they become our invisible world and as we grow older they maybe still serve as inspiration or as an emotional ? fact and fiction blend with ? role models warning stories ? magic and mystery br br my name is ? like my grandfather and his grandfather before him our protagonist introduces himself to us and also introduces the story that stretches back through generations it produces stories within stories stories that evoke the ? wonder of scotland its rugged mountains ? in ? the stuff of legend yet ? is rooted in reality this is what gives it its special charm it has a rough beauty and authenticity tempered with some of the finest gaelic singing you will ever hear br br ? ? visits his grandfather in hospital shortly before his death he burns with frustration part of him ? to be in the twenty first century to hang out in ? but he is raised on the western ? among a gaelic speaking community br br yet there is a deeper conflict within him he ? to know the truth the truth behind his ? ancient stories where does fiction end and he wants to know the truth behind the death of his parents br br he is pulled to make a last fateful journey to the ? of one of ? most ? mountains can the truth be told or is it all in stories br br in this story about stories we revisit bloody battles poisoned lovers the folklore of old and the sometimes more treacherous folklore of accepted truth in doing so we each connect with ? as he lives the story of his own life br br ? the ? pinnacle is probably the most honest unpretentious and genuinely beautiful film of scotland ever made like ? i got slightly annoyed with the pretext of hanging stories on more stories but also like ? i ? this once i saw the ? picture ' forget the box office pastiche of braveheart and its like you might even ? the ? famous ? of the wicker man to see a film that is true to scotland this one is probably unique if you maybe ? on it deeply enough you might even re evaluate the power of storytelling and the age old question of whether there are some truths that cannot be told but only experienced\n",
      "? worst mistake of my life br br i picked this movie up at target for 5 because i figured hey it's sandler i can get some cheap laughs i was wrong completely wrong mid way through the film all three of my friends were asleep and i was still suffering worst plot worst script worst movie i have ever seen i wanted to hit my head up against a wall for an hour then i'd stop and you know why because it felt damn good upon bashing my head in i stuck that damn movie in the ? and watched it burn and that felt better than anything else i've ever done it took american psycho army of darkness and kill bill just to get over that crap i hate you sandler for actually going through with this and ruining a whole day of my life\n",
      "[0. 1. 1. ... 0. 0. 0.]\n",
      "(25000, 15000)\n",
      "(25000, 15000)\n",
      "(25000,)\n",
      "(25000,)\n",
      "Model: \"sequential\"\n",
      "_________________________________________________________________\n",
      " Layer (type)                Output Shape              Param #   \n",
      "=================================================================\n",
      " dense (Dense)               (None, 64)                960064    \n",
      "                                                                 \n",
      " dense_1 (Dense)             (None, 1)                 65        \n",
      "                                                                 \n",
      "=================================================================\n",
      "Total params: 960,129\n",
      "Trainable params: 960,129\n",
      "Non-trainable params: 0\n",
      "_________________________________________________________________\n"
     ]
    },
    {
     "name": "stdout",
     "output_type": "stream",
     "text": [
      "Epoch 1/30\n",
      "98/98 [==============================] - 5s 47ms/step - loss: 0.3548 - accuracy: 0.8544 - val_loss: 0.3025 - val_accuracy: 0.8781\n",
      "Epoch 2/30\n",
      "98/98 [==============================] - 3s 34ms/step - loss: 0.2002 - accuracy: 0.9274 - val_loss: 0.2908 - val_accuracy: 0.8830\n",
      "Epoch 3/30\n",
      "98/98 [==============================] - 3s 35ms/step - loss: 0.1477 - accuracy: 0.9460 - val_loss: 0.3111 - val_accuracy: 0.8796\n",
      "Epoch 4/30\n",
      "98/98 [==============================] - 3s 35ms/step - loss: 0.1184 - accuracy: 0.9571 - val_loss: 0.3459 - val_accuracy: 0.8734\n",
      "Epoch 5/30\n",
      "98/98 [==============================] - 3s 35ms/step - loss: 0.0959 - accuracy: 0.9668 - val_loss: 0.3818 - val_accuracy: 0.8691\n",
      "Epoch 6/30\n",
      "98/98 [==============================] - 3s 34ms/step - loss: 0.0783 - accuracy: 0.9734 - val_loss: 0.4256 - val_accuracy: 0.8631\n",
      "Epoch 7/30\n",
      "98/98 [==============================] - 3s 34ms/step - loss: 0.0633 - accuracy: 0.9782 - val_loss: 0.4735 - val_accuracy: 0.8584\n",
      "Epoch 8/30\n",
      "98/98 [==============================] - 3s 34ms/step - loss: 0.0494 - accuracy: 0.9838 - val_loss: 0.5208 - val_accuracy: 0.8582\n",
      "Epoch 9/30\n",
      "98/98 [==============================] - 3s 34ms/step - loss: 0.0402 - accuracy: 0.9868 - val_loss: 0.5844 - val_accuracy: 0.8535\n",
      "Epoch 10/30\n",
      "98/98 [==============================] - 4s 36ms/step - loss: 0.0311 - accuracy: 0.9902 - val_loss: 0.6327 - val_accuracy: 0.8538\n",
      "Epoch 11/30\n",
      "98/98 [==============================] - 3s 35ms/step - loss: 0.0245 - accuracy: 0.9926 - val_loss: 0.6912 - val_accuracy: 0.8521\n",
      "Epoch 12/30\n",
      "98/98 [==============================] - 3s 35ms/step - loss: 0.0181 - accuracy: 0.9952 - val_loss: 0.7879 - val_accuracy: 0.8438\n",
      "Epoch 13/30\n",
      "98/98 [==============================] - 3s 34ms/step - loss: 0.0142 - accuracy: 0.9966 - val_loss: 0.8277 - val_accuracy: 0.8482\n",
      "Epoch 14/30\n",
      "98/98 [==============================] - 3s 34ms/step - loss: 0.0103 - accuracy: 0.9976 - val_loss: 0.8917 - val_accuracy: 0.8480\n",
      "Epoch 15/30\n",
      "98/98 [==============================] - 4s 36ms/step - loss: 0.0079 - accuracy: 0.9984 - val_loss: 0.9701 - val_accuracy: 0.8439\n",
      "Epoch 16/30\n",
      "98/98 [==============================] - 3s 33ms/step - loss: 0.0051 - accuracy: 0.9992 - val_loss: 1.0454 - val_accuracy: 0.8439\n",
      "Epoch 17/30\n",
      "98/98 [==============================] - 3s 35ms/step - loss: 0.0040 - accuracy: 0.9992 - val_loss: 1.1088 - val_accuracy: 0.8436\n",
      "Epoch 18/30\n",
      "98/98 [==============================] - 3s 34ms/step - loss: 0.0023 - accuracy: 0.9999 - val_loss: 1.1799 - val_accuracy: 0.8438\n",
      "Epoch 19/30\n",
      "98/98 [==============================] - 3s 36ms/step - loss: 0.0022 - accuracy: 0.9997 - val_loss: 1.2436 - val_accuracy: 0.8423\n",
      "Epoch 20/30\n",
      "98/98 [==============================] - 4s 41ms/step - loss: 0.0010 - accuracy: 1.0000 - val_loss: 1.3345 - val_accuracy: 0.8415\n",
      "Epoch 21/30\n",
      "98/98 [==============================] - 4s 42ms/step - loss: 0.0011 - accuracy: 0.9998 - val_loss: 1.3852 - val_accuracy: 0.8397\n",
      "Epoch 22/30\n",
      "98/98 [==============================] - 4s 36ms/step - loss: 8.5267e-04 - accuracy: 0.9997 - val_loss: 1.4417 - val_accuracy: 0.8409\n",
      "Epoch 23/30\n",
      "98/98 [==============================] - 3s 33ms/step - loss: 4.3356e-04 - accuracy: 1.0000 - val_loss: 1.5005 - val_accuracy: 0.8411\n",
      "Epoch 24/30\n",
      "98/98 [==============================] - 3s 33ms/step - loss: 7.5945e-04 - accuracy: 0.9998 - val_loss: 1.5770 - val_accuracy: 0.8412\n",
      "Epoch 25/30\n",
      "98/98 [==============================] - 3s 33ms/step - loss: 3.8387e-04 - accuracy: 0.9999 - val_loss: 1.6266 - val_accuracy: 0.8392\n",
      "Epoch 26/30\n",
      "98/98 [==============================] - 3s 32ms/step - loss: 1.3970e-04 - accuracy: 1.0000 - val_loss: 1.6666 - val_accuracy: 0.8386\n",
      "Epoch 27/30\n",
      "98/98 [==============================] - 3s 32ms/step - loss: 7.5363e-05 - accuracy: 1.0000 - val_loss: 1.7916 - val_accuracy: 0.8348\n",
      "Epoch 28/30\n",
      "98/98 [==============================] - 3s 34ms/step - loss: 2.1379e-04 - accuracy: 0.9999 - val_loss: 1.7749 - val_accuracy: 0.8419\n",
      "Epoch 29/30\n",
      "98/98 [==============================] - 3s 32ms/step - loss: 3.1872e-04 - accuracy: 0.9999 - val_loss: 1.8465 - val_accuracy: 0.8408\n",
      "Epoch 30/30\n",
      "98/98 [==============================] - 3s 35ms/step - loss: 2.1891e-05 - accuracy: 1.0000 - val_loss: 1.8727 - val_accuracy: 0.8410\n"
     ]
    }
   ],
   "source": [
    "import numpy as np\n",
    "from keras import layers, models\n",
    "from keras.datasets import imdb\n",
    "\n",
    "# 詞彙量只取15000\n",
    "MAX_WORDS = 15000\n",
    "(train_data, train_labels), (test_data, test_labels) = imdb.load_data(num_words=MAX_WORDS)\n",
    "print(train_data[0])\n",
    "print(max([max(sequence) for sequence in train_data]))\n",
    "\n",
    "# 讀入字典, 每個數字代表一個單字\n",
    "word_index = imdb.get_word_index()\n",
    "print(type(word_index))\n",
    "# 顯示前10筆字典內容\n",
    "print(list(word_index.items())[:10])\n",
    "# 將數字轉為文字\n",
    "reverse_word_index = dict([(v, k) for (k, v) in word_index.items()])\n",
    "# 顯示前5筆影評\n",
    "for i in range(5):\n",
    "    # 前3個字為保留字\n",
    "    decoded_review = ' '.join([reverse_word_index.get(i - 3, \"?\") for i in train_data[i]])\n",
    "    print(decoded_review)\n",
    "\n",
    "# 將原始資料轉換成25000*15000的矩陣\n",
    "'''\n",
    "        15000(字彙) 有出現就填一\n",
    "     |----------------\n",
    "     |1 0 0 1 0 0 0 1\n",
    "影評  |0 0 0 1 0 1 0 0\n",
    "25000|\n",
    "     |\n",
    "     |\n",
    "'''\n",
    "def vectorize_sequence(sequences, dimension=MAX_WORDS):\n",
    "    results = np.zeros((len(sequences), dimension))\n",
    "    for i, sequence in enumerate(sequences):\n",
    "        results[i, sequence] = 1.\n",
    "    return results\n",
    "\n",
    "\n",
    "# 將影評轉為矩陣\n",
    "X_train = vectorize_sequence(train_data)\n",
    "X_test = vectorize_sequence(test_data)\n",
    "y_train = np.asarray(train_labels).astype('float32')\n",
    "y_test = np.asarray(test_labels).astype('float32')\n",
    "# 印出第一筆資料\n",
    "print(X_train[0])\n",
    "print(X_train.shape)\n",
    "print(X_test.shape)\n",
    "print(y_train.shape)\n",
    "print(y_test.shape)\n",
    "\n",
    "# 建立訓練模型\n",
    "model = models.Sequential()\n",
    "model.add(layers.Dense(64, activation='relu', input_shape=(MAX_WORDS,)))\n",
    "model.add(layers.Dense(1, activation='sigmoid'))\n",
    "model.summary()\n",
    "model.compile(optimizer='rmsprop', loss='binary_crossentropy', metrics=['accuracy'])\n",
    "\n",
    "# 開始訓練\n",
    "history = model.fit(X_train, y_train, epochs=30, batch_size=256,\n",
    "                    validation_data=(X_test, y_test))\n"
   ]
  },
  {
   "cell_type": "code",
   "execution_count": 2,
   "id": "5b203d67",
   "metadata": {},
   "outputs": [
    {
     "data": {
      "text/plain": [
       "<matplotlib.legend.Legend at 0x1e597eab880>"
      ]
     },
     "execution_count": 2,
     "metadata": {},
     "output_type": "execute_result"
    },
    {
     "data": {
      "image/png": "[encoded data removed]",
      "text/plain": [
       "<Figure size 432x288 with 1 Axes>"
      ]
     },
     "metadata": {
      "needs_background": "light"
     },
     "output_type": "display_data"
    }
   ],
   "source": [
    "import matplotlib.pyplot as plt\n",
    "history_dict = history.history\n",
    "accuracy = history_dict['accuracy']\n",
    "val_accuracy = history_dict['val_accuracy']\n",
    "epochs = range(1, len(accuracy)+1)\n",
    "plt.plot(epochs, accuracy, 'g--', label='accuracy')\n",
    "plt.plot(epochs, val_accuracy, 'b-', label='validation accuracy')\n",
    "plt.legend()"
   ]
  },
  {
   "cell_type": "code",
   "execution_count": 3,
   "id": "af572044",
   "metadata": {},
   "outputs": [
    {
     "data": {
      "text/plain": [
       "<matplotlib.legend.Legend at 0x1e598045340>"
      ]
     },
     "execution_count": 3,
     "metadata": {},
     "output_type": "execute_result"
    },
    {
     "data": {
      "image/png": "[encoded data removed]",
      "text/plain": [
       "<Figure size 432x288 with 1 Axes>"
      ]
     },
     "metadata": {
      "needs_background": "light"
     },
     "output_type": "display_data"
    }
   ],
   "source": [
    "loss = history_dict['loss']\n",
    "val_loss = history_dict['val_loss']\n",
    "plt.plot(epochs, loss, 'g--', label='loss')\n",
    "plt.plot(epochs, val_loss, 'b-', label='validation loss')\n",
    "plt.legend()"
   ]
  },
  {
   "cell_type": "code",
   "execution_count": null,
   "id": "0204a8fa",
   "metadata": {},
   "outputs": [],
   "source": []
  }
 ],
 "metadata": {
  "kernelspec": {
   "display_name": "Python 3 (ipykernel)",
   "language": "python",
   "name": "python3"
  },
  "language_info": {
   "codemirror_mode": {
    "name": "ipython",
    "version": 3
   },
   "file_extension": ".py",
   "mimetype": "text/x-python",
   "name": "python",
   "nbconvert_exporter": "python",
   "pygments_lexer": "ipython3",
   "version": "3.8.10"
  }
 },
 "nbformat": 4,
 "nbformat_minor": 5
}
